{
 "cells": [
  {
   "cell_type": "markdown",
   "id": "a0bbc285-6984-4fd7-84a8-4545ffb44c7a",
   "metadata": {},
   "source": [
    "#### Weather"
   ]
  },
  {
   "cell_type": "markdown",
   "id": "87342137-b622-4d28-82dd-5d25873338d1",
   "metadata": {
    "tags": []
   },
   "source": [
    "##### - import set up"
   ]
  },
  {
   "cell_type": "code",
   "execution_count": 1,
   "id": "afabb77f-94b1-4c15-9349-709c7c276ad2",
   "metadata": {},
   "outputs": [],
   "source": [
    "# import .env keys\n",
    "from dotenv import load_dotenv\n",
    "load_dotenv()\n",
    "\n",
    "import os\n",
    "weather_api = os.environ['WEATHER_API_KEY']\n",
    "import pandas as pd\n",
    "import requests\n",
    "import json\n",
    "import sqlalchemy as sa\n",
    "# get connection\n",
    "from gans_connection import get_database_connection"
   ]
  },
  {
   "cell_type": "markdown",
   "id": "6ebcdbea-3f6f-4673-9916-4e9058a89399",
   "metadata": {
    "tags": []
   },
   "source": [
    "##### - Create a function do get data from Airlabs API"
   ]
  },
  {
   "cell_type": "code",
   "execution_count": 3,
   "id": "aca5a089-32de-410e-9beb-e979a5238168",
   "metadata": {},
   "outputs": [],
   "source": [
    "def fetch_weather_data(city_id, latitude, longitude):\n",
    "    try:\n",
    "        api_url = f'http://api.openweathermap.org/data/2.5/forecast?lat={latitude}&lon={longitude}&appid={weather_api}&units=metric'\n",
    "        response = requests.get(api_url)\n",
    "        if response.status_code == 200:\n",
    "            data = response.json()\n",
    "            return data\n",
    "    except Exception as e:\n",
    "        print(f\"Error {city_id} weather X.X =  {e}\")\n",
    "        return None"
   ]
  },
  {
   "cell_type": "code",
   "execution_count": 4,
   "id": "85d77d94-87ce-4772-baba-69a607376126",
   "metadata": {},
   "outputs": [],
   "source": [
    "def weather():\n",
    "    try:\n",
    "        engine = get_database_connection()\n",
    "        cities_table = pd.read_sql_table('cities', engine)\n",
    "        weather_data = []\n",
    "\n",
    "        for index, row in cities_table.iterrows():\n",
    "            city_id = row['city_id']\n",
    "            latitude = row['latitude']\n",
    "            longitude = row['longitude']\n",
    "\n",
    "            wthr_data = fetch_weather_data(city_id, latitude, longitude)\n",
    "                \n",
    "            if wthr_data is not None:\n",
    "            # Extract relevant info every 3 hours\n",
    "                for forecast in wthr_data['list']:\n",
    "                # make sure if is not raining or snowing doest show an error\n",
    "                    rain = forecast.get(\"rain\", {}).get(\"3h\", 0)\n",
    "                    snow = forecast.get(\"snow\", {}).get(\"3h\", 0)\n",
    "                \n",
    "                    weather_data.append({\n",
    "                        \"city_id\": city_id,\n",
    "                        \"temperature\": forecast[\"main\"][\"temp\"],\n",
    "                        \"feels_like\": forecast[\"main\"][\"feels_like\"],\n",
    "                        \"forecast\": forecast[\"weather\"][0][\"main\"],\n",
    "                        \"forecast_desc\": forecast[\"weather\"][0][\"description\"],\n",
    "                        \"wind_speed\": forecast[\"wind\"][\"speed\"],\n",
    "                        \"humidity\": forecast[\"main\"][\"humidity\"],\n",
    "                        \"rain\": rain,\n",
    "                        \"snow\": snow,\n",
    "                        \"forecast_ts\": forecast[\"dt_txt\"]\n",
    "                    })\n",
    "\n",
    "        weather_df = pd.DataFrame(weather_data)\n",
    "        weather_df.to_sql('weather', engine, if_exists='append', index=False)\n",
    "        return print(\"Sun is shining :D \")\n",
    "    \n",
    "    except Exception as e:\n",
    "        print(f\"Uh-oh, unexpected WEATHER anomaly X.X {e}\")\n",
    "        \n",
    "    "
   ]
  },
  {
   "cell_type": "code",
   "execution_count": 5,
   "id": "6048849e-3109-4009-9d3b-cdefea350fe6",
   "metadata": {
    "tags": []
   },
   "outputs": [
    {
     "name": "stdout",
     "output_type": "stream",
     "text": [
      "Sun is shining :D \n"
     ]
    }
   ],
   "source": [
    "weather()"
   ]
  }
 ],
 "metadata": {
  "kernelspec": {
   "display_name": "Python 3 (ipykernel)",
   "language": "python",
   "name": "python3"
  },
  "language_info": {
   "codemirror_mode": {
    "name": "ipython",
    "version": 3
   },
   "file_extension": ".py",
   "mimetype": "text/x-python",
   "name": "python",
   "nbconvert_exporter": "python",
   "pygments_lexer": "ipython3",
   "version": "3.11.5"
  }
 },
 "nbformat": 4,
 "nbformat_minor": 5
}
