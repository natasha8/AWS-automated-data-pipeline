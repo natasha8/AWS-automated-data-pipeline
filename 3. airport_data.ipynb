{
 "cells": [
  {
   "cell_type": "code",
   "execution_count": 1,
   "id": "029e44b5-8db6-4f87-b9a8-c54790a73672",
   "metadata": {},
   "outputs": [],
   "source": [
    "#set up\n",
    "import pandas as pd\n",
    "import requests\n",
    "import json\n",
    "from datetime import datetime\n",
    "import sqlalchemy as sa \n",
    "\n",
    "#import env variables\n",
    "from dotenv import load_dotenv\n",
    "load_dotenv()\n",
    "\n",
    "import os\n",
    "airlab_api = os.environ['AIRLABS_API_KEY']\n",
    "\n",
    "#get connection\n",
    "from gans_connection import get_database_connection\n"
   ]
  },
  {
   "cell_type": "markdown",
   "id": "0069ac20-e297-404c-9ecd-bcccd489e45c",
   "metadata": {},
   "source": [
    "#### lets create a table for airports infos\n",
    "\n"
   ]
  },
  {
   "cell_type": "code",
   "execution_count": 2,
   "id": "67b51ebc-3ebf-4ddc-bd48-3197a01b42fe",
   "metadata": {},
   "outputs": [],
   "source": [
    "def fetch_airport_data(latitude, longitude):\n",
    "    \n",
    "    try:\n",
    "        api_url = f'https://airlabs.co/api/v9/nearby?lat={latitude}&lng={longitude}&distance=2&lang=en&api_key={airlab_api}'\n",
    "        response = requests.get(api_url)\n",
    "        if response.status_code == 200:\n",
    "            data = response.json()\n",
    "            return data\n",
    "        \n",
    "    except Exception as e:\n",
    "        print(f\"Failed to fetch X.X = {response.status_code}\")\n",
    "        return None"
   ]
  },
  {
   "cell_type": "code",
   "execution_count": 3,
   "id": "07b4be06-ffed-451e-9b3c-c0c4cc0bd8c9",
   "metadata": {},
   "outputs": [],
   "source": [
    "def airports():\n",
    "    try:\n",
    "        engine = get_database_connection()\n",
    "        cities_table = pd.read_sql('cities', engine)\n",
    "\n",
    "        airports = []\n",
    "\n",
    "        # Iterate through the cities and fetch airport data for each\n",
    "        for index, row in cities_table.iterrows():\n",
    "            city_id = row['city_id']\n",
    "            latitude = row['latitude']\n",
    "            longitude = row['longitude']\n",
    "\n",
    "           \n",
    "            data = fetch_airport_data(latitude, longitude)\n",
    "            \n",
    "\n",
    "            if data is not None:\n",
    "                for r in data['response']['airports']:\n",
    "                    current_time = datetime.now()\n",
    "                    timestamp = current_time.strftime('%d-%m-%Y %H:%M:%S')\n",
    "\n",
    "                    airports_info = {\n",
    "                        \"city_id\": city_id,\n",
    "                        \"airport_name\": r['name'],\n",
    "                        \"airport_iata\": r['iata_code'],\n",
    "                    }\n",
    "\n",
    "                    airports.append(airports_info)\n",
    "\n",
    "        # Process and store airport data\n",
    "        airport_df = pd.DataFrame(airports)\n",
    "        airport_df.dropna(subset=['airport_iata'], inplace=True)\n",
    "        \n",
    "        #select col for aiport table\n",
    "        airport = airport_df[['airport_iata', 'airport_name']]\n",
    "        \n",
    "        # Select col for cities airport\n",
    "        cities_airport = airport_df[['city_id', 'airport_iata']]\n",
    "\n",
    "        # Store airport data in database\n",
    "        #airport.to_sql('airports', engine, if_exists='append', index=False)\n",
    "        \n",
    "        #cities_airport.to_sql('cities_airports', engine, if_exists='append', index=False)\n",
    "        print(airport)\n",
    "        print(cities_airport)\n",
    "        return print(\"Flying :D \")\n",
    "        \n",
    "    except Exception as e:\n",
    "        print(f\"Uh-oh, unexpected AIRPORT anomaly X.X {e}\")\n",
    "        \n",
    "   \n"
   ]
  },
  {
   "cell_type": "code",
   "execution_count": 4,
   "id": "b1ab74d6-51ea-4092-bd55-4a501fdfe6cf",
   "metadata": {},
   "outputs": [
    {
     "name": "stdout",
     "output_type": "stream",
     "text": [
      "  airport_iata                     airport_name\n",
      "0          GVA         Aeroport Geneve-Cointrin\n",
      "1          LIS  Lisbon Humberto Delgado Airport\n",
      "   city_id airport_iata\n",
      "0        1          GVA\n",
      "1        2          LIS\n",
      "Flying :D \n"
     ]
    }
   ],
   "source": [
    "airports()"
   ]
  }
 ],
 "metadata": {
  "kernelspec": {
   "display_name": "Python 3 (ipykernel)",
   "language": "python",
   "name": "python3"
  },
  "language_info": {
   "codemirror_mode": {
    "name": "ipython",
    "version": 3
   },
   "file_extension": ".py",
   "mimetype": "text/x-python",
   "name": "python",
   "nbconvert_exporter": "python",
   "pygments_lexer": "ipython3",
   "version": "3.11.5"
  }
 },
 "nbformat": 4,
 "nbformat_minor": 5
}
