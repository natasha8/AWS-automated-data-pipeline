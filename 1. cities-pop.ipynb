{
 "cells": [
  {
   "cell_type": "markdown",
   "id": "ad4e6d41-680c-4566-a525-0b27b170321e",
   "metadata": {},
   "source": [
    "#### City & Population"
   ]
  },
  {
   "cell_type": "markdown",
   "id": "feb29c2d-4dbc-4843-aebb-1ffa80f3d99c",
   "metadata": {},
   "source": [
    "##### - import set up"
   ]
  },
  {
   "cell_type": "code",
   "execution_count": 1,
   "id": "3017ea01-019d-451e-9b81-181b01670a31",
   "metadata": {
    "tags": []
   },
   "outputs": [],
   "source": [
    "import os\n",
    "import requests\n",
    "import pandas as pd\n",
    "from sqlalchemy import create_engine\n",
    "from gans_connection import get_database_connection\n",
    "\n",
    "# Retrieve the API key from environment variables\n",
    "from dotenv import load_dotenv\n",
    "load_dotenv()\n",
    "city_api_key = os.environ.get('CITY_API_KEY')"
   ]
  },
  {
   "cell_type": "markdown",
   "id": "eddfdf5b-6943-4c82-8e94-6ddd6674a44b",
   "metadata": {},
   "source": [
    "##### - create a function do get data from the city API"
   ]
  },
  {
   "cell_type": "code",
   "execution_count": 2,
   "id": "79044ada-d97b-4dde-9055-574d0d9ea2ee",
   "metadata": {
    "tags": []
   },
   "outputs": [],
   "source": [
    "def get_city_info(city):\n",
    "    api_url = f'https://api.api-ninjas.com/v1/city?name={city}'\n",
    "    response = requests.get(api_url, headers={'X-Api-Key': city_api_key})\n",
    "\n",
    "    try:\n",
    "        response.status_code == requests.codes.ok\n",
    "        data = response.json()\n",
    "        return data\n",
    "    except Exception as e:\n",
    "        print(f\"Uh-oh, unexpected POPULATION anomaly X.X {e}\")"
   ]
  },
  {
   "cell_type": "markdown",
   "id": "0df55f2a-f080-42ca-aec4-d87a7417754b",
   "metadata": {
    "tags": []
   },
   "source": [
    "##### - gathers and filters city information from a list of cities"
   ]
  },
  {
   "cell_type": "code",
   "execution_count": 3,
   "id": "e03d7de5-60a4-4074-9f24-a1a823dea2c5",
   "metadata": {
    "tags": []
   },
   "outputs": [],
   "source": [
    "def get_cities_infos(cities):\n",
    "    cities_table = [get_city_info(city) for city in cities]\n",
    "    return [city_info for city_info in cities_table if city_info is not None]"
   ]
  },
  {
   "cell_type": "markdown",
   "id": "962f87ee-8f8a-4c75-b1c9-f278b68fafd2",
   "metadata": {
    "tags": []
   },
   "source": [
    "##### - create a handler to create the population table"
   ]
  },
  {
   "cell_type": "code",
   "execution_count": 4,
   "id": "7c522f51-b252-48ec-a058-e24aaa5ade50",
   "metadata": {},
   "outputs": [],
   "source": [
    "def population_handler(cities_df, engine):\n",
    "    try:\n",
    "        # Create population df\n",
    "        population = cities_df[['name', 'population']].rename(columns={'name': 'city_name'})\n",
    "\n",
    "        # Fetch cities table\n",
    "        cities_table = pd.read_sql_table('cities', engine)\n",
    "        cities = pd.DataFrame(cities_table)\n",
    "\n",
    "        # lets grag only the col that we need\n",
    "        cities = cities[['city_id', 'city_name']]\n",
    "\n",
    "        # create the population table\n",
    "        # merge to get city_id\n",
    "        population_df = population.merge(cities, on='city_name', how='left')\n",
    "\n",
    "        # drop city_name\n",
    "        population_df = population_df.drop(columns='city_name', axis=1)\n",
    "\n",
    "        # add year\n",
    "        population_df['timestamp_population'] = pd.to_datetime('now').year\n",
    "\n",
    "        # store to population table\n",
    "        population_df.to_sql('populations', engine, if_exists='append', index=False)\n",
    "\n",
    "        return population_df\n",
    "    except Exception as e:\n",
    "        print(f\"Uh-oh, unexpected POPULATION anomaly X.X {e}\")\n"
   ]
  },
  {
   "cell_type": "markdown",
   "id": "00ea478c-0397-43a9-a871-ae6560b13c8f",
   "metadata": {},
   "source": [
    "##### - create the main handler for create cities & population tables"
   ]
  },
  {
   "cell_type": "code",
   "execution_count": 5,
   "id": "4215b346-44fa-46ff-9285-4b7b81589835",
   "metadata": {},
   "outputs": [],
   "source": [
    "def city_pop_handler():\n",
    "    cities = [\"Geneva\",\"Lisbon\",]\n",
    "    try:\n",
    "        # Retrieve data and flatten the list of lists\n",
    "        cities_table = get_cities_infos(cities)\n",
    "        cities_flat = [item for sublist in cities_table for item in sublist]\n",
    "\n",
    "        # Create DataFrame\n",
    "        cities_df = pd.DataFrame(cities_flat)\n",
    "\n",
    "        # Obtain the database engine using the imported function\n",
    "        engine = get_database_connection()\n",
    "\n",
    "        # Extract required columns for 'cities' table\n",
    "        cities_table = cities_df[['name', 'latitude', 'longitude', 'country']].rename(\n",
    "            columns={'name': 'city_name', 'country': 'country_code'}\n",
    "        )\n",
    "\n",
    "        # Store 'cities' table in the database\n",
    "        cities_table.to_sql('cities', engine, if_exists='append', index=False)\n",
    "        print(cities_table)\n",
    "        population_handler(cities_df,engine)\n",
    "        \n",
    "    except Exception as e:\n",
    "        print(f\"Uh-oh, unexpected CITY POP anomaly X.X {e}\")\n",
    "        \n",
    "    return print(\"Data dancing delightedly :D \")\n",
    "\n"
   ]
  },
  {
   "cell_type": "markdown",
   "id": "9c5899a9-dbd4-4b8a-a2de-29cce7f55e4a",
   "metadata": {},
   "source": [
    "##### - Let's the magic happen"
   ]
  },
  {
   "cell_type": "code",
   "execution_count": 6,
   "id": "24b6ba93-fe7d-4a91-ae9a-7737697c1e46",
   "metadata": {},
   "outputs": [
    {
     "name": "stdout",
     "output_type": "stream",
     "text": [
      "  city_name  latitude  longitude country_code\n",
      "0    Geneva   46.2000     6.1500           CH\n",
      "1    Lisbon   38.7452    -9.1604           PT\n",
      "Data dancing delightedly :D \n"
     ]
    }
   ],
   "source": [
    "city_pop_handler()"
   ]
  }
 ],
 "metadata": {
  "kernelspec": {
   "display_name": "Python 3 (ipykernel)",
   "language": "python",
   "name": "python3"
  },
  "language_info": {
   "codemirror_mode": {
    "name": "ipython",
    "version": 3
   },
   "file_extension": ".py",
   "mimetype": "text/x-python",
   "name": "python",
   "nbconvert_exporter": "python",
   "pygments_lexer": "ipython3",
   "version": "3.11.5"
  }
 },
 "nbformat": 4,
 "nbformat_minor": 5
}
