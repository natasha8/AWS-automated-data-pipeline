{
 "cells": [
  {
   "cell_type": "code",
   "execution_count": null,
   "id": "0ea6b308-0346-4e41-9a8e-fb7999d3ce39",
   "metadata": {},
   "outputs": [],
   "source": [
    "import json\n",
    "import pandas as pd\n",
    "import requests\n",
    "import os\n",
    "\n",
    "from gans_connection import get_database_connection\n",
    "from weather import weather\n",
    "from airports import airports\n",
    "from flights import get_flights_infos\n",
    "\n",
    "def lambda_handler():\n",
    "    try:\n",
    "        # Store weather data\n",
    "        weather()\n",
    "\n",
    "        # Store airport information\n",
    "        airports()\n",
    "\n",
    "        # Store flights information\n",
    "        get_flights_infos()\n",
    "        \n",
    "        return {\n",
    "            'statusCode': 200,\n",
    "            'body': json.dumps('Smooth Job!')\n",
    "        }\n",
    "    except Exception as e:\n",
    "        print(f\"Error: {e}\")\n",
    "        raise e\n"
   ]
  }
 ],
 "metadata": {
  "kernelspec": {
   "display_name": "Python 3 (ipykernel)",
   "language": "python",
   "name": "python3"
  },
  "language_info": {
   "codemirror_mode": {
    "name": "ipython",
    "version": 3
   },
   "file_extension": ".py",
   "mimetype": "text/x-python",
   "name": "python",
   "nbconvert_exporter": "python",
   "pygments_lexer": "ipython3",
   "version": "3.11.5"
  }
 },
 "nbformat": 4,
 "nbformat_minor": 5
}
