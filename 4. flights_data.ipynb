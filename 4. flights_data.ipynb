{
 "cells": [
  {
   "cell_type": "code",
   "execution_count": 1,
   "id": "5c5d360a-bb05-4938-8ffc-7bcaeca92afd",
   "metadata": {},
   "outputs": [],
   "source": [
    "#set up\n",
    "import pandas as pd\n",
    "import requests\n",
    "import json\n",
    "import sqlalchemy as sa \n",
    "\n",
    "#import env variables\n",
    "from dotenv import load_dotenv\n",
    "load_dotenv()\n",
    "\n",
    "import os\n",
    "airlab_api = os.environ['AIRLABS_API_KEY']\n",
    "\n",
    "#get connection\n",
    "from gans_connection import get_database_connection"
   ]
  },
  {
   "cell_type": "code",
   "execution_count": 2,
   "id": "b0643c89-fea8-4e52-9ac7-1554b942440b",
   "metadata": {},
   "outputs": [],
   "source": [
    "def fetch_arrival_info(iata_code):\n",
    "    try:\n",
    "        api_url = f\"https://airlabs.co/api/v9/schedules?arr_iata={iata_code}&limit=40&api_key={airlab_api}\"\n",
    "       \n",
    "        response = requests.get(api_url)\n",
    "        if response.status_code == 200:\n",
    "            data = response.json()\n",
    "            return data\n",
    "        \n",
    "    except Exception as e:\n",
    "        print(f\"Failed to fetch X.X = {response.status_code}\")\n",
    "        return None"
   ]
  },
  {
   "cell_type": "code",
   "execution_count": 3,
   "id": "4ff403bf-e37f-475e-8a9b-aa6c0e0b33fd",
   "metadata": {},
   "outputs": [],
   "source": [
    "def get_arrivals_infos():\n",
    "    try:\n",
    "        #db connection\n",
    "        engine = get_database_connection()\n",
    "    \n",
    "        # import cities table\n",
    "        cities_airports = pd.read_sql('cities_airports', engine)\n",
    "    \n",
    "        arrivals = []\n",
    "\n",
    "        for index, row in cities_airports.iterrows():\n",
    "            iata_code = row['airport_iata']\n",
    "        \n",
    "            # Fetch arrival\n",
    "            data = fetch_arrival_info(iata_code)\n",
    "\n",
    "            \n",
    "            for a in data[\"response\"]:\n",
    "                #print(json.dumps(a, indent=4))\n",
    "                \n",
    "                arrivals_infos = { \n",
    "                    \"flight_num\":a[\"flight_number\"],\n",
    "                    \"airline_iata\": a[ \"airline_iata\"],\n",
    "                    \"departure_iata\":a[\"dep_iata\"],\n",
    "                    \"arrival_iata\":a[\"arr_iata\"],\n",
    "                    \"arrival_time\":a[\"arr_time\"],\n",
    "                    \"status\":a[\"status\"]\n",
    "                   }\n",
    "                \n",
    "                # append to the list above \n",
    "                arrivals.append(arrivals_infos)   \n",
    "\n",
    "        # Create and send table to db\n",
    "        arrivals_df = pd.DataFrame(arrivals)\n",
    "        arrivals_df.to_sql('flights',engine, if_exists='append', index=False)\n",
    "        \n",
    "    \n",
    "    except Exception as e:\n",
    "        print(f\"Uh-oh, unexpected ARRIVALS anomaly X.X {e}\")\n",
    "        \n",
    "    return print(\"Scheduled on time :D \")\n"
   ]
  },
  {
   "cell_type": "code",
   "execution_count": 4,
   "id": "c9ec4412-c1b7-4007-8830-368df4481551",
   "metadata": {
    "tags": []
   },
   "outputs": [
    {
     "name": "stdout",
     "output_type": "stream",
     "text": [
      "Scheduled on time :D \n"
     ]
    }
   ],
   "source": [
    "get_arrivals_infos()"
   ]
  }
 ],
 "metadata": {
  "kernelspec": {
   "display_name": "Python 3 (ipykernel)",
   "language": "python",
   "name": "python3"
  },
  "language_info": {
   "codemirror_mode": {
    "name": "ipython",
    "version": 3
   },
   "file_extension": ".py",
   "mimetype": "text/x-python",
   "name": "python",
   "nbconvert_exporter": "python",
   "pygments_lexer": "ipython3",
   "version": "3.11.5"
  }
 },
 "nbformat": 4,
 "nbformat_minor": 5
}
